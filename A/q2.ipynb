{
 "cells": [
  {
   "cell_type": "markdown",
   "id": "2f05e459",
   "metadata": {},
   "source": [
    "将问题从求解“FY1 的飞行方向、飞行速度、烟幕干扰弹投放点、烟幕干扰弹起爆点”转换为求解“FY1 的飞行方向、飞行速度、无人机受领任务与投放烟幕干扰弹的时间间隔、烟幕干扰弹投放与起爆时间间隔”"
   ]
  },
  {
   "cell_type": "code",
   "execution_count": null,
   "id": "679e90f4",
   "metadata": {},
   "outputs": [],
   "source": [
    "import os\n",
    "import numpy as np\n",
    "import pandas as pd\n",
    "import matplotlib.pyplot as plt\n",
    "import mpl_toolkits.axisartist as axisartist\n",
    "from tqdm import tqdm\n",
    "from numba import jit"
   ]
  },
  {
   "cell_type": "code",
   "execution_count": 17,
   "id": "9f7fa2ad",
   "metadata": {},
   "outputs": [],
   "source": [
    "fake_goal_coords = (0, 0, 0)  # 假目标坐标\n",
    "real_goal_coords = (0, 200, 0)  # 真目标坐标\n",
    "M1_coords = (20000, 0, 2000)  # 导弹 M1 坐标\n",
    "M2_coords = (19000, 600, 2100)  # 导弹 M2 坐标\n",
    "M3_coords = (18000, -600, 1900)  # 导弹 M3 坐标\n",
    "FY1_coords = (17800, 0, 1800)  # 无人机 FY1 坐标\n",
    "FY2_coords = (12000, 1400, 1400)  # 无人机 FY2 坐标\n",
    "FY3_coords = (6000, -3000, 700)  # 无人机 FY3 坐标\n",
    "FY4_coords = (11000, 2000, 1800)  # 无人机 FY4 坐标\n",
    "FY5_coords = (13000, -2000, 1300)  # 无人机 FY5 坐标"
   ]
  },
  {
   "cell_type": "code",
   "execution_count": 18,
   "id": "260f1e01",
   "metadata": {},
   "outputs": [],
   "source": [
    "FY1_theta = np.pi  # rad\n",
    "FY1_v = 120  # m/s\n",
    "M1_v = 300  # m/s\n",
    "Cloud_v = 3  # m/s\n",
    "Cloud_r = 10  # m\n",
    "g = 9.8  # m/s^2"
   ]
  },
  {
   "cell_type": "code",
   "execution_count": 19,
   "id": "66bf7149",
   "metadata": {},
   "outputs": [
    {
     "name": "stdout",
     "output_type": "stream",
     "text": [
      "(0, 1.5, 5.1, 25.1, 66.99917080747261) True\n"
     ]
    }
   ],
   "source": [
    "t_begin = 0\n",
    "t_mission = t_begin + 1.5\n",
    "t_explosion = t_mission + 3.6\n",
    "t_expired = t_explosion + 20\n",
    "t_end = np.sqrt(M1_coords[0]**2 + M1_coords[2]**2) / M1_v\n",
    "print((t_begin, t_mission, t_explosion, t_expired, t_end), t_begin < t_mission < t_explosion < t_expired < t_end)"
   ]
  },
  {
   "cell_type": "markdown",
   "id": "b9c8a3eb",
   "metadata": {},
   "source": [
    "问题1无需考虑 $y$ 轴，只考虑 $x$ 轴和 $z$ 轴。时间从警戒雷达发现来袭导弹时(同时无人机受领任务)起算，此外还有无人机投放烟幕干扰弹、烟幕干扰弹起爆(同时不一定为目标提供有效遮蔽)、烟幕干扰弹无法为目标提供有效遮蔽、导弹到达假目标一共5个时刻，分别定义为 $t_0, t_1, t_2, t_3, t_4$"
   ]
  },
  {
   "cell_type": "markdown",
   "id": "f56971fd",
   "metadata": {},
   "source": [
    "**导弹坐标-时间函数**：\n",
    "\n",
    "$$\\begin{cases}\n",
    "x_{\\text{M}_1}(t) = x_{\\text{M}_1,o} - v_{\\text{M}_1} \\frac{x_{\\text{M}_1,o}}{\\sqrt{x_{\\text{M}_1,o}^2 + z_{\\text{M}_1,o}^2}} t \\\\\n",
    "y_{\\text{M}_1}(t) = y_{\\text{M}_1,o} = 0 \\\\\n",
    "z_{\\text{M}_1}(t) = z_{\\text{M}_1,o} - v_{\\text{M}_1} \\frac{z_{\\text{M}_1,o}}{\\sqrt{x_{\\text{M}_1,o}^2 + z_{\\text{M}_1,o}^2}} t \\\\\n",
    "\\end{cases}$$\n",
    "\n",
    "其中，$(x_{\\text{M}_1,o}, y_{\\text{M}_1,o}, z_{\\text{M}_1,o})$ 为导弹初始坐标，$v_{\\text{M}_1} = 300 \\text{m/s}$ 为导弹速度，方向在 $xyz$ 坐标系为 $\\overrightarrow{P_{\\text{M}_1}P_{\\text{G}_f}}$"
   ]
  },
  {
   "cell_type": "markdown",
   "id": "c7581f32",
   "metadata": {},
   "source": [
    "**无人机坐标-时间函数**：\n",
    "\n",
    "$$\\begin{cases}\n",
    "x_{\\text{F}_1}(t) = x_{\\text{F}_1,o} + v_{\\text{F}_1} \\cos \\theta_{\\text{F}_1} t \\\\\n",
    "y_{\\text{F}_1}(t) = y_{\\text{F}_1,o} + v_{\\text{F}_1} \\sin \\theta_{\\text{F}_1} t \\\\\n",
    "z_{\\text{F}_1}(t) = z_{\\text{F}_1,o} \\\\\n",
    "\\end{cases}, t \\le t_1$$\n",
    "\n",
    "其中，$(x_{\\text{F}_1,o}, y_{\\text{F}_1,o}, z_{\\text{F}_1,o})$ 为无人机初始坐标，$\\theta_{\\text{F}_1}, v_{\\text{F}_1}$ 为无人机飞行方向和速度"
   ]
  },
  {
   "cell_type": "markdown",
   "id": "ba9aa808",
   "metadata": {},
   "source": [
    "**烟幕干扰弹坐标-时间函数**：\n",
    "\n",
    "$$\\begin{cases}\n",
    "x_{\\text{B}}(t) = x_{\\text{B},o} + v_{\\text{F}_1} \\cos \\theta_{\\text{F}_1} (t - t_1) \\\\\n",
    "y_{\\text{B}}(t) = y_{\\text{B},o} + v_{\\text{F}_1} \\sin \\theta_{\\text{F}_1} (t - t_1) \\\\\n",
    "z_{\\text{B}}(t) = z_{\\text{B},o} - \\frac{1}{2} g (t - t_1)^2 \\\\\n",
    "\\end{cases}, t_1 < t \\le t_2$$\n",
    "\n",
    "其中，$(x_{\\text{B},o}, y_{\\text{B},o}, z_{\\text{B},o})$ 为烟幕干扰弹初始坐标"
   ]
  },
  {
   "cell_type": "markdown",
   "id": "55967c14",
   "metadata": {},
   "source": [
    "**烟幕云团坐标-时间函数**：\n",
    "\n",
    "$$\\begin{cases}\n",
    "x_{\\text{C}}(t) = x_{\\text{C},o} \\\\\n",
    "y_{\\text{C}}(t) = y_{\\text{C},o} \\\\\n",
    "z_{\\text{C}}(t) = z_{\\text{C},o} - v_{\\text{C}} (t - t_2) \\\\\n",
    "\\end{cases}, t_2 < t \\le t_3$$\n",
    "\n",
    "其中，$(x_{\\text{C},o}, y_{\\text{C},o}, z_{\\text{C},o})$ 为烟幕云团初始坐标，$v_{\\text{C}} = 3 \\text{m/s}$ 为烟幕云团下沉速度"
   ]
  },
  {
   "cell_type": "markdown",
   "id": "791501aa",
   "metadata": {},
   "source": [
    "目标函数：\n",
    "\n",
    "$$\\max_{\\theta_{F_1}, v_{F_1}, t_m, t_e} \\int_{t_{s_0}}^{t_{s_1}} \\text{is\\_shield}(t) dt \\\\\n",
    "\\text{s.t.} \\begin{cases}\n",
    "\\text{is\\_shield}(t) = \\begin{cases} 1 & \\text{if} ~|P_{M_1} P_C| < r_C \\\\ 0 &  \\text{otherwise} \\end{cases} \\\\\n",
    "t_0 + t_m + t_e + 20 = t_1 + t_e + 20 = t_2 + 20 = t_3 < t_4 \\\\\n",
    "\\theta_{F_1} \\in [0, 2 \\pi) \\\\\n",
    "v_{F_1} \\in [70, 140] \\\\\n",
    "t_m \\in [0, 5] \\\\\n",
    "t_e \\in [0, 5] \\\\\n",
    "\\end{cases}$$\n",
    "\n",
    "其中，$\\text{is\\_shield}(t)$ 表示在 $t$ 时刻导弹是否被烟幕云团遮蔽"
   ]
  },
  {
   "cell_type": "code",
   "execution_count": 20,
   "id": "f7224936",
   "metadata": {},
   "outputs": [
    {
     "name": "stdout",
     "output_type": "stream",
     "text": [
      "无人机初始坐标 (17800, 0, 1800)\n",
      "无人机结束坐标 (17620.0, 2.2043642384652358e-14, 1800.0)\n",
      "烟幕干扰弹初始坐标 (17620.0, 2.2043642384652358e-14, 1800.0)\n",
      "烟幕干扰弹结束坐标 (17188.0, 7.494838410781801e-14, 1736.496)\n",
      "烟幕云团初始坐标 (17188.0, 7.494838410781801e-14, 1736.496)\n",
      "烟幕云团结束坐标 (17188.0, 7.494838410781801e-14, 1676.496)\n"
     ]
    }
   ],
   "source": [
    "@jit\n",
    "def get_M1_coords(t: np.ndarray) -> tuple[np.ndarray, np.ndarray]:\n",
    "    ''' 直线运动 '''\n",
    "    x0, y0, z0 = M1_coords\n",
    "    x = x0 - M1_v * x0 / np.sqrt(x0**2 + z0**2) * t\n",
    "    y = np.full(t.shape, y0)\n",
    "    z = z0 - M1_v * z0 / np.sqrt(x0**2 + z0**2) * t\n",
    "    return (x, y, z)\n",
    "\n",
    "@jit\n",
    "def get_FY1_coords(t: np.ndarray) -> tuple[np.ndarray, np.ndarray]:\n",
    "    ''' 直线运动 '''\n",
    "    # mask = np.ones_like(t).astype(bool)\n",
    "    mask = (t <= t_mission)\n",
    "    mask = mask | np.roll(mask, 1)\n",
    "    x0, y0, z0 = FY1_coords\n",
    "    x = np.where(mask, x0 + FY1_v * np.cos(FY1_theta) * t, np.full(t.shape, np.nan))\n",
    "    y = np.where(mask, y0 + FY1_v * np.sin(FY1_theta) * t, np.full(t.shape, np.nan))\n",
    "    z = np.where(mask, np.full(t.shape, z0), np.full(t.shape, np.nan))\n",
    "    return (x, y, z)\n",
    "\n",
    "x_FY1_0, y_FY1_0, z_FY1_0 = FY1_coords\n",
    "print('无人机初始坐标', (x_FY1_0, y_FY1_0, z_FY1_0))\n",
    "\n",
    "xyz_FY1_1 = get_FY1_coords(np.array([t_mission]))\n",
    "x_FY1_1, y_FY1_1, z_FY1_1 = tuple(zip(*xyz_FY1_1))[0]\n",
    "print('无人机结束坐标', (x_FY1_1, y_FY1_1, z_FY1_1))\n",
    "\n",
    "@jit\n",
    "def get_Bomb_coords(t: np.ndarray):\n",
    "    ''' 斜抛运动 '''\n",
    "    mask = (t >= t_mission) & (t <= t_explosion)\n",
    "    mask = mask | np.roll(mask, 1)\n",
    "    t = t - t_mission\n",
    "    x = np.where(mask, x_FY1_1 + FY1_v * np.cos(FY1_theta) * t, np.full(t.shape, np.nan))\n",
    "    y = np.where(mask, y_FY1_1 + FY1_v * np.sin(FY1_theta) * t, np.full(t.shape, np.nan))\n",
    "    z = np.where(mask, z_FY1_1 - 0.5 * g * t**2, np.full(t.shape, np.nan))\n",
    "    return (x, y, z)\n",
    "\n",
    "xyz_Bomb_0 = get_Bomb_coords(np.array([t_mission]))\n",
    "x_Bomb_0, y_Bomb_0, z_Bomb_0 = tuple(zip(*xyz_Bomb_0))[0]\n",
    "print('烟幕干扰弹初始坐标', (x_Bomb_0, y_Bomb_0, z_Bomb_0))\n",
    "\n",
    "xyz_Bomb_1 = get_Bomb_coords(np.array([t_explosion]))\n",
    "x_Bomb_1, y_Bomb_1, z_Bomb_1 = tuple(zip(*xyz_Bomb_1))[0]\n",
    "print('烟幕干扰弹结束坐标', (x_Bomb_1, y_Bomb_1, z_Bomb_1))\n",
    "\n",
    "@jit\n",
    "def get_Cloud_coords(t):\n",
    "    \"\"\" 直线运动 \"\"\"\n",
    "    mask = (t >= t_explosion) & (t <= t_expired)\n",
    "    mask = mask | np.roll(mask, 1)\n",
    "    t = t - t_explosion\n",
    "    x = np.where(mask, x_Bomb_1, np.full(t.shape, np.nan))  # 没有水平速度\n",
    "    y = np.where(mask, y_Bomb_1, np.full(t.shape, np.nan))  # 没有水平速度\n",
    "    # x = np.where(mask, x_Bomb_1 + FY1_v * np.cos(FY2_theta) * t, np.full(t.shape, np.nan))  # 有水平速度\n",
    "    # y = np.where(mask, y_Bomb_1 + FY1_v * np.sin(FY2_theta) * t, np.full(t.shape, np.nan))  # 有水平速度\n",
    "    z = np.where(mask, z_Bomb_1 - Cloud_v * t, np.full(t.shape, np.nan))\n",
    "    return (x, y, z)\n",
    "\n",
    "xyz_Cloud_0 = get_Cloud_coords(np.array([t_explosion]))\n",
    "x_Cloud_0, y_Cloud_0, z_Cloud_0 = tuple(zip(*xyz_Cloud_0))[0]\n",
    "print('烟幕云团初始坐标', (x_Cloud_0, y_Cloud_0, z_Cloud_0))\n",
    "\n",
    "xyz_Cloud_1 = get_Cloud_coords(np.array([t_expired]))\n",
    "x_Cloud_1, y_Cloud_1, z_Cloud_1 = tuple(zip(*xyz_Cloud_1))[0]\n",
    "print('烟幕云团结束坐标', (x_Cloud_1, y_Cloud_1, z_Cloud_1))"
   ]
  },
  {
   "cell_type": "code",
   "execution_count": null,
   "id": "c18c99a2",
   "metadata": {},
   "outputs": [],
   "source": [
    "del FY1_theta, FY1_v \n",
    "del t_mission, t_explosion, t_expired\n",
    "del x_FY1_1, y_FY1_1, z_FY1_1\n",
    "del x_Bomb_1, y_Bomb_1, z_Bomb_1\n",
    "del x_Cloud_1, y_Cloud_1, z_Cloud_1\n",
    "del get_M1_coords, get_FY1_coords, get_Bomb_coords, get_Cloud_coords"
   ]
  },
  {
   "cell_type": "code",
   "execution_count": null,
   "id": "05549630",
   "metadata": {},
   "outputs": [],
   "source": [
    "@jit\n",
    "def get_M1_coords(t: np.ndarray) -> tuple[np.ndarray, np.ndarray]:\n",
    "    ''' 直线运动 '''\n",
    "    x0, y0, z0 = M1_coords\n",
    "    x = x0 - M1_v * x0 / np.sqrt(x0**2 + z0**2) * t\n",
    "    y = np.full(t.shape, y0)\n",
    "    z = z0 - M1_v * z0 / np.sqrt(x0**2 + z0**2) * t\n",
    "    return (x, y, z)\n",
    "@jit\n",
    "def get_FY1_coords(t: np.ndarray, t_mission, FY1_theta, FY1_v) -> tuple[np.ndarray, np.ndarray]:\n",
    "    ''' 直线运动 '''\n",
    "    # mask = np.ones_like(t).astype(bool)\n",
    "    mask = (t <= t_mission)\n",
    "    mask = mask | np.roll(mask, 1)\n",
    "    x0, y0, z0 = FY1_coords\n",
    "    x = np.where(mask, x0 + FY1_v * np.cos(FY1_theta) * t, np.full(t.shape, np.nan))\n",
    "    y = np.where(mask, y0 + FY1_v * np.sin(FY1_theta) * t, np.full(t.shape, np.nan))\n",
    "    z = np.where(mask, np.full(t.shape, z0), np.full(t.shape, np.nan))\n",
    "    return (x, y, z)\n",
    "@jit\n",
    "def get_Bomb_coords(t: np.ndarray, t_mission, t_explosion, FY1_theta, FY1_v, x_FY1_1, y_FY1_1, z_FY1_1):\n",
    "    ''' 斜抛运动 '''\n",
    "    mask = (t >= t_mission) & (t <= t_explosion)\n",
    "    mask = mask | np.roll(mask, 1)\n",
    "    t = t - t_mission\n",
    "    # x_FY1_1, y_FY1_1, z_FY1_1 = tuple(zip(*xyz_FY1_1))[0]\n",
    "    x = np.where(mask, x_FY1_1 + FY1_v * np.cos(FY1_theta) * t, np.full(t.shape, np.nan))\n",
    "    y = np.where(mask, y_FY1_1 + FY1_v * np.sin(FY1_theta) * t, np.full(t.shape, np.nan))\n",
    "    z = np.where(mask, z_FY1_1 - 0.5 * g * t**2, np.full(t.shape, np.nan))\n",
    "    return (x, y, z)\n",
    "@jit\n",
    "def get_Cloud_coords(t: np.ndarray, t_explosion, t_expired, x_Bomb_1, y_Bomb_1, z_Bomb_1):\n",
    "    \"\"\" 直线运动 \"\"\"\n",
    "    mask = (t >= t_explosion) & (t <= t_expired)\n",
    "    mask = mask | np.roll(mask, 1)\n",
    "    t = t - t_explosion\n",
    "    # x_Bomb_1, y_Bomb_1, z_Bomb_1 = tuple(zip(*xyz_Bomb_1))[0]\n",
    "    x = np.where(mask, x_Bomb_1, np.full(t.shape, np.nan))  # 没有水平速度\n",
    "    y = np.where(mask, y_Bomb_1, np.full(t.shape, np.nan))  # 没有水平速度\n",
    "    # x = np.where(mask, x_Bomb_1 + FY1_v * np.cos(FY2_theta) * t, np.full(t.shape, np.nan))  # 有水平速度\n",
    "    # y = np.where(mask, y_Bomb_1 + FY1_v * np.sin(FY2_theta) * t, np.full(t.shape, np.nan))  # 有水平速度\n",
    "    z = np.where(mask, z_Bomb_1 - Cloud_v * t, np.full(t.shape, np.nan))\n",
    "    return (x, y, z)\n",
    "\n",
    "def obj(theta, v, t_m, t_e):\n",
    "    global FY1_theta, FY1_v \n",
    "    global t_mission, t_explosion, t_expired\n",
    "    global x_FY1_1, y_FY1_1, z_FY1_1\n",
    "    global x_Bomb_1, y_Bomb_1, z_Bomb_1\n",
    "    global x_Cloud_1, y_Cloud_1, z_Cloud_1\n",
    "    FY1_theta = theta\n",
    "    FY1_v = v\n",
    "    t_mission = t_begin + t_m\n",
    "    t_explosion = t_mission + t_e\n",
    "    t_expired = t_explosion + 20\n",
    "\n",
    "    xyz_FY1_1 = get_FY1_coords(\n",
    "        np.array([t_mission]), t_mission, FY1_theta, FY1_v,\n",
    "    )\n",
    "    x_FY1_1, y_FY1_1, z_FY1_1 = tuple(zip(*xyz_FY1_1))[0]\n",
    "    # print('无人机结束坐标', (x_FY1_1, y_FY1_1, z_FY1_1))\n",
    "    xyz_Bomb_1 = get_Bomb_coords(\n",
    "        np.array([t_explosion]), t_mission, t_explosion, FY1_theta, FY1_v, x_FY1_1, y_FY1_1, z_FY1_1,\n",
    "    )\n",
    "    x_Bomb_1, y_Bomb_1, z_Bomb_1 = tuple(zip(*xyz_Bomb_1))[0]\n",
    "    # print('烟幕干扰弹结束坐标', (x_Bomb_1, y_Bomb_1, z_Bomb_1))\n",
    "    xyz_Cloud_1 = get_Cloud_coords(\n",
    "        np.array([t_expired]), t_explosion, t_expired, x_Bomb_1, y_Bomb_1, z_Bomb_1,\n",
    "    )\n",
    "    # x_Cloud_1, y_Cloud_1, z_Cloud_1 = tuple(zip(*xyz_Cloud_1))[0]\n",
    "    # print('烟幕云团结束坐标', (x_Cloud_1, y_Cloud_1, z_Cloud_1))\n",
    "    \n",
    "    step=0.0001\n",
    "    t_shield_begin = None\n",
    "    t_shield_end = None\n",
    "    t = np.arange(t_explosion, t_expired, step)\n",
    "    xyz_c = get_Cloud_coords(t, t_explosion, t_expired, x_Bomb_1, y_Bomb_1, z_Bomb_1)\n",
    "    xyz_m = get_M1_coords(t)\n",
    "    xyz_c = np.array(xyz_c)\n",
    "    xyz_m = np.array(xyz_m)\n",
    "    is_shield = ((xyz_c - xyz_m) ** 2).sum(0) <= Cloud_r ** 2\n",
    "    for _i, _t in zip(is_shield, t):\n",
    "        if _i:\n",
    "            t_shield_begin = _t if t_shield_begin is None else t_shield_begin\n",
    "            t_shield_end = _t\n",
    "    if t_shield_begin is None and t_shield_end is None:\n",
    "        t_shield_duration = 0\n",
    "    else:\n",
    "        t_shield_duration = t_shield_end - t_shield_begin\n",
    "    return - t_shield_duration"
   ]
  },
  {
   "cell_type": "code",
   "execution_count": 146,
   "id": "2c99e580",
   "metadata": {},
   "outputs": [
    {
     "data": {
      "text/plain": [
       "0.05882999999777283"
      ]
     },
     "execution_count": 146,
     "metadata": {},
     "output_type": "execute_result"
    }
   ],
   "source": [
    "-obj(np.pi, 120, 1.5, 3.6)"
   ]
  },
  {
   "cell_type": "code",
   "execution_count": 184,
   "id": "630e1b62",
   "metadata": {},
   "outputs": [
    {
     "name": "stdout",
     "output_type": "stream",
     "text": [
      "[  3.1415927  120.           1.50000001   3.59999997] [0.05883]\n"
     ]
    }
   ],
   "source": [
    "from sko.GA import GA\n",
    "from sko.tool_kit import x2gray\n",
    "\n",
    "size_pop = 100\n",
    "x0 = np.array([np.pi, 120, 1.5, 3.6]).reshape(-1, 4)\n",
    "ga = GA(\n",
    "    func=obj,\n",
    "    n_dim=4,\n",
    "    size_pop=size_pop,\n",
    "    max_iter=200,\n",
    "    prob_mut=0.001,\n",
    "    lb=[0, 70, 0, 0],\n",
    "    ub=[2 * np.pi, 140, 5, 5],\n",
    "    constraint_eq=tuple(),\n",
    "    constraint_ueq=tuple(),\n",
    "    precision=1e-07,\n",
    "    early_stop=True,\n",
    ")\n",
    "ga.Chrom[0] = x2gray(x0, 4, ga.lb, ga.ub, ga.precision)\n",
    "xbest, ybest = ga.run()\n",
    "ybest *= -1\n",
    "print(xbest, ybest)"
   ]
  },
  {
   "cell_type": "code",
   "execution_count": 191,
   "id": "aef7c117",
   "metadata": {},
   "outputs": [
    {
     "name": "stdout",
     "output_type": "stream",
     "text": [
      "Optimization terminated successfully    (Exit mode 0)\n",
      "            Current function value: -0.05882999999777283\n",
      "            Iterations: 1\n",
      "            Function evaluations: 5\n",
      "            Gradient evaluations: 1\n",
      "最优 x: [  3.14159265 120.           1.5          3.6       ]\n",
      "最优 f: 0.05882999999777283\n"
     ]
    }
   ],
   "source": [
    "from scipy.optimize import minimize\n",
    "\n",
    "x0 = np.array([np.pi, 120, 1.5, 3.6])\n",
    "bounds = [(0, 2*np.pi), (70, 140), (0, 5), (0, 5)]\n",
    "res = minimize(\n",
    "    fun=lambda x: obj(*x),\n",
    "    x0=x0,\n",
    "    method='SLSQP',  # SLSQP, COBYLA, trust-constr, L-BFGS-B\n",
    "    bounds=bounds,\n",
    "    constraints=[],\n",
    "    options={'ftol': 1e-7, 'disp': True}\n",
    ")\n",
    "xbest, ybest = res.x, -res.fun\n",
    "print(xbest, ybest)"
   ]
  },
  {
   "cell_type": "code",
   "execution_count": 242,
   "id": "5130759c",
   "metadata": {},
   "outputs": [
    {
     "data": {
      "text/plain": [
       "0.06671999999747413"
      ]
     },
     "execution_count": 242,
     "metadata": {},
     "output_type": "execute_result"
    }
   ],
   "source": [
    "xbest = (np.pi, 110, 1.5, 3.6)\n",
    "ybest = -obj(*xbest)\n",
    "ybest"
   ]
  },
  {
   "cell_type": "code",
   "execution_count": 232,
   "id": "ec58da72",
   "metadata": {},
   "outputs": [
    {
     "name": "stderr",
     "output_type": "stream",
     "text": [
      "100%|██████████| 1000/1000 [02:46<00:00,  5.99it/s]\n",
      "100%|██████████| 1000/1000 [02:46<00:00,  6.02it/s]\n",
      "100%|██████████| 1000/1000 [02:46<00:00,  6.00it/s]\n",
      "100%|██████████| 1000/1000 [02:45<00:00,  6.03it/s]\n"
     ]
    }
   ],
   "source": [
    "_num = 1000\n",
    "x0 = np.array([np.pi, 120, 1.5, 3.6]).reshape(-1, 4).repeat(_num, axis=0)\n",
    "x1 = x0.copy()\n",
    "x1[:, 0] = np.linspace(0, 2*np.pi, _num)\n",
    "y1 = np.array([-obj(*_) for _ in tqdm(x1)])\n",
    "x2 = x0.copy()\n",
    "x2[:, 1] = np.linspace(70, 140, _num)\n",
    "y2 = np.array([-obj(*_) for _ in tqdm(x2)])\n",
    "x3 = x0.copy()\n",
    "x3[:, 2] = np.linspace(0, 5, _num)\n",
    "y3 = np.array([-obj(*_) for _ in tqdm(x3)])\n",
    "x4 = x0.copy()\n",
    "x4[:, 3] = np.linspace(0, 5, _num)\n",
    "y4 = np.array([-obj(*_) for _ in tqdm(x4)])"
   ]
  },
  {
   "cell_type": "code",
   "execution_count": 236,
   "id": "00dfd9aa",
   "metadata": {},
   "outputs": [
    {
     "data": {
      "image/png": "[encoded data removed]",
      "text/plain": [
       "<Figure size 1000x400 with 4 Axes>"
      ]
     },
     "metadata": {},
     "output_type": "display_data"
    }
   ],
   "source": [
    "plt.figure(figsize=(10, 4))\n",
    "plt.subplot(1, 4, 1)\n",
    "plt.plot(x1[:, 0], y1, 'o')\n",
    "plt.title('$\\\\theta$')\n",
    "plt.subplot(1, 4, 2)\n",
    "plt.plot(x2[:, 1], y2, 'o')\n",
    "plt.title('$v$')\n",
    "plt.subplot(1, 4, 3)\n",
    "plt.plot(x3[:, 2], y3, 'o')\n",
    "plt.title('$t_m$')\n",
    "plt.subplot(1, 4, 4)\n",
    "plt.plot(x4[:, 3], y4, 'o')\n",
    "plt.title('$t_e$')\n",
    "plt.show()"
   ]
  },
  {
   "cell_type": "code",
   "execution_count": 241,
   "id": "66deacd9",
   "metadata": {},
   "outputs": [
    {
     "data": {
      "text/plain": [
       "(0.05740999999782659,\n",
       " 0.06671999999747413,\n",
       " 0.06671999999747413,\n",
       " 0.06671999999747413)"
      ]
     },
     "execution_count": 241,
     "metadata": {},
     "output_type": "execute_result"
    }
   ],
   "source": [
    "y1.max(), y2.max(), y3.max(), y4.max()"
   ]
  },
  {
   "cell_type": "markdown",
   "id": "d1006f19",
   "metadata": {},
   "source": [
    "猜测使得遮蔽时间最大的自变量不是一个数值而是一个范围，具体待验证"
   ]
  },
  {
   "cell_type": "code",
   "execution_count": 243,
   "id": "8dfe3bc3",
   "metadata": {},
   "outputs": [
    {
     "name": "stdout",
     "output_type": "stream",
     "text": [
      "角度 180.00°\n",
      "速度 110.00 m/s\n",
      "受领与投放时间间隔 1.50 s\n",
      "投放与起爆时间间隔 3.60 s\n"
     ]
    }
   ],
   "source": [
    "print(\n",
    "    f'角度 {xbest[0] / np.pi * 180:.2f}°\\n'\n",
    "    f'速度 {xbest[1]:.2f} m/s\\n'\n",
    "    f'受领与投放时间间隔 {xbest[2]:.2f} s\\n'\n",
    "    f'投放与起爆时间间隔 {xbest[3]:.2f} s'\n",
    ")"
   ]
  },
  {
   "cell_type": "code",
   "execution_count": 244,
   "id": "a4c5782f",
   "metadata": {},
   "outputs": [
    {
     "name": "stdout",
     "output_type": "stream",
     "text": [
      "无人机结束坐标(烟幕干扰弹投放点) (17635.0, 2.0206672185931328e-14, 1800.0)\n",
      "烟幕干扰弹结束坐标(烟幕干扰弹起爆点) (17239.0, 6.870268543216651e-14, 1736.496)\n",
      "烟幕云团结束坐标 (17239.0, 6.870268543216651e-14, 1676.496)\n"
     ]
    }
   ],
   "source": [
    "FY1_theta, FY1_v, t_m, t_e = xbest\n",
    "t_mission = t_begin + t_m\n",
    "t_explosion = t_mission + t_e\n",
    "t_expired = t_explosion + 20\n",
    "xyz_FY1_1 = get_FY1_coords(np.array([t_mission]), t_mission, FY1_theta, FY1_v)\n",
    "x_FY1_1, y_FY1_1, z_FY1_1 = tuple(zip(*xyz_FY1_1))[0]\n",
    "print('无人机结束坐标(烟幕干扰弹投放点)', (x_FY1_1, y_FY1_1, z_FY1_1))\n",
    "xyz_Bomb_1 = get_Bomb_coords(np.array([t_explosion]), t_mission, t_explosion, FY1_theta, FY1_v, x_FY1_1, y_FY1_1, z_FY1_1)\n",
    "x_Bomb_1, y_Bomb_1, z_Bomb_1 = tuple(zip(*xyz_Bomb_1))[0]\n",
    "print('烟幕干扰弹结束坐标(烟幕干扰弹起爆点)', (x_Bomb_1, y_Bomb_1, z_Bomb_1))\n",
    "xyz_Cloud_1 = get_Cloud_coords(np.array([t_expired]), t_explosion, t_expired, x_Bomb_1, y_Bomb_1, z_Bomb_1)\n",
    "x_Cloud_1, y_Cloud_1, z_Cloud_1 = tuple(zip(*xyz_Cloud_1))[0]\n",
    "print('烟幕云团结束坐标', (x_Cloud_1, y_Cloud_1, z_Cloud_1))"
   ]
  },
  {
   "cell_type": "code",
   "execution_count": null,
   "id": "ce74489f",
   "metadata": {},
   "outputs": [],
   "source": []
  }
 ],
 "metadata": {
  "kernelspec": {
   "display_name": "mathm",
   "language": "python",
   "name": "python3"
  },
  "language_info": {
   "codemirror_mode": {
    "name": "ipython",
    "version": 3
   },
   "file_extension": ".py",
   "mimetype": "text/x-python",
   "name": "python",
   "nbconvert_exporter": "python",
   "pygments_lexer": "ipython3",
   "version": "3.10.13"
  }
 },
 "nbformat": 4,
 "nbformat_minor": 5
}
