{
 "cells": [
  {
   "cell_type": "markdown",
   "id": "f3ff7e0c",
   "metadata": {},
   "source": [
    "|                  符号                   |     意义     | 单位 |      |              符号               |     意义     |   单位    |\n",
    "| :-------------------------------------: | :----------: | :--: | :--: | :-----------------------------: | :----------: | :-------: |\n",
    "|             $n_0 \\approx 1$             |  空气折射率  |      |      |           $\\theta_0$            |  空气入射角  |    rad    |\n",
    "|            $n_1 \\approx 2.5$            | 外延层折射率 |      |      |           $\\theta_1$            | 外延层折射角 |    rad    |\n",
    "|                  $n_2$                  |  衬底折射率  |      |      |               $d$               |  外延层厚度  |    μm     |\n",
    "|                $\\Delta$                 |    光程差    |  m   |      | $\\lambda = \\frac{1}{\\tilde{v}}$ |     波长     |    μm     |\n",
    "| $\\delta = \\frac{2 \\pi}{\\lambda} \\Delta$ |    相位差    | rad  |      | $\\tilde{v} = \\frac{1}{\\lambda}$ |     波数     | cm$^{-1}$ |"
   ]
  },
  {
   "cell_type": "markdown",
   "id": "9524dd8a",
   "metadata": {},
   "source": [
    "光程差：\n",
    "$$\\Delta = 2 n_1 d \\cos \\theta_1 + \\frac{\\lambda}{2}$$\n",
    "其中，由于半波损失，所以需要 $+ \\frac{\\lambda}{2}$"
   ]
  },
  {
   "cell_type": "markdown",
   "id": "2cf6ab09",
   "metadata": {},
   "source": [
    "相位差：\n",
    "$$\\delta = 4 \\pi n_1 d \\cos \\theta_1 \\tilde{v} + \\pi$$"
   ]
  },
  {
   "cell_type": "markdown",
   "id": "298d6a59",
   "metadata": {},
   "source": [
    "干涉相长的条件（相位差为0或者整数倍）：\n",
    "$$\\delta = 2 \\pi m, m \\in \\mathbb{Z}$$\n",
    "干涉相消的条件（相位差为半波长的奇数倍）：\n",
    "$$\\delta = (2 m + 1) \\pi, m \\in \\mathbb{Z}$$\n",
    "如果出现干涉相长，那么就会出现波峰；如果出现干涉相消，那么就会出现波谷。"
   ]
  },
  {
   "cell_type": "markdown",
   "id": "38659504",
   "metadata": {},
   "source": [
    "某个波峰的波数为：\n",
    "$$\\tilde{v}_m = \\frac{2 \\pi m - \\pi}{4 \\pi n_1 d \\cos \\theta_1} = \\frac{2 m - 1}{4 n_1 d \\cos \\theta_1}$$\n",
    "\n",
    "两个相邻波峰的波数差为：\n",
    "$$\\Delta \\tilde{v}_m = \\tilde{v}_m - \\tilde{v}_{m-1} = \\frac{1}{2 n_1 d \\cos \\theta_1}$$"
   ]
  },
  {
   "cell_type": "markdown",
   "id": "b3e3c1d8",
   "metadata": {},
   "source": [
    "波谷同理，某个波谷的波数为：\n",
    "$$\\tilde{v}_m = \\frac{(2m+1)\\pi - \\pi}{4 \\pi n_1 d \\cos \\theta_1} = \\frac{m}{2 n_1 d \\cos \\theta_1}$$\n",
    "\n",
    "两个相邻波谷的波数差为：\n",
    "$$\\Delta \\tilde{v}_m = \\tilde{v}_m - \\tilde{v}_{m-1} = \\frac{1}{2 n_1 d \\cos \\theta_1}$$"
   ]
  },
  {
   "cell_type": "markdown",
   "id": "41f34536",
   "metadata": {},
   "source": [
    "所以外延层厚度：\n",
    "$$d = \\frac{1}{2 n_1 \\cos \\theta_1 \\Delta \\tilde{v}}$$\n",
    "其中，$\\Delta \\tilde{v}$ 为相邻波峰或波谷的波数差，通过对多个波峰或波谷的波数差取平均可以得到"
   ]
  },
  {
   "cell_type": "code",
   "execution_count": 1,
   "id": "8f647078",
   "metadata": {},
   "outputs": [],
   "source": [
    "import numpy as np\n",
    "import pandas as pd\n",
    "import matplotlib.pyplot as plt"
   ]
  },
  {
   "cell_type": "code",
   "execution_count": 2,
   "id": "a3cb8d1c",
   "metadata": {},
   "outputs": [
    {
     "data": {
      "text/plain": [
       "3.982930136721576"
      ]
     },
     "execution_count": 2,
     "metadata": {},
     "output_type": "execute_result"
    }
   ],
   "source": [
    "n0 = 1\n",
    "n1 = 2.5\n",
    "theta0 = np.deg2rad(10)\n",
    "theta1 = np.arcsin(n0 * np.sin(theta0) / n1)\n",
    "np.rad2deg(theta1)"
   ]
  },
  {
   "cell_type": "code",
   "execution_count": 3,
   "id": "86a5c785",
   "metadata": {},
   "outputs": [
    {
     "data": {
      "application/vnd.microsoft.datawrangler.viewer.v0+json": {
       "columns": [
        {
         "name": "index",
         "rawType": "int64",
         "type": "integer"
        },
        {
         "name": "波数 (cm-1)",
         "rawType": "float64",
         "type": "float"
        },
        {
         "name": "反射率 (%)",
         "rawType": "float64",
         "type": "float"
        }
       ],
       "ref": "b9ce5cc7-d3b7-4d71-808b-3b765839fe83",
       "rows": [
        [
         "0",
         "399.6747",
         "0.0"
        ],
        [
         "1",
         "400.1569",
         "31.29322924"
        ],
        [
         "2",
         "400.639",
         "30.60428036"
        ],
        [
         "3",
         "401.1211",
         "29.99740213"
        ],
        [
         "4",
         "401.6032",
         "29.41479736"
        ],
        [
         "5",
         "402.0853",
         "28.94739201"
        ],
        [
         "6",
         "402.5674",
         "28.56453144"
        ],
        [
         "7",
         "403.0496",
         "28.2573198"
        ],
        [
         "8",
         "403.5317",
         "28.05093833"
        ],
        [
         "9",
         "404.0138",
         "27.90966164"
        ],
        [
         "10",
         "404.4959",
         "27.82480345"
        ],
        [
         "11",
         "404.978",
         "27.78869601"
        ],
        [
         "12",
         "405.4601",
         "27.74284411"
        ],
        [
         "13",
         "405.9423",
         "27.68946917"
        ],
        [
         "14",
         "406.4244",
         "27.64880272"
        ],
        [
         "15",
         "406.9065",
         "27.57350092"
        ],
        [
         "16",
         "407.3886",
         "27.46281947"
        ],
        [
         "17",
         "407.8707",
         "27.32350287"
        ],
        [
         "18",
         "408.3528",
         "27.16558967"
        ],
        [
         "19",
         "408.835",
         "26.96203377"
        ],
        [
         "20",
         "409.3171",
         "26.75746501"
        ],
        [
         "21",
         "409.7992",
         "26.55659144"
        ],
        [
         "22",
         "410.2813",
         "26.34868225"
        ],
        [
         "23",
         "410.7634",
         "26.15934145"
        ],
        [
         "24",
         "411.2455",
         "25.98917694"
        ],
        [
         "25",
         "411.7277",
         "25.87290542"
        ],
        [
         "26",
         "412.2098",
         "25.75938539"
        ],
        [
         "27",
         "412.6919",
         "25.66319507"
        ],
        [
         "28",
         "413.174",
         "25.58149735"
        ],
        [
         "29",
         "413.6561",
         "25.50335926"
        ],
        [
         "30",
         "414.1382",
         "25.44107855"
        ],
        [
         "31",
         "414.6204",
         "25.36119756"
        ],
        [
         "32",
         "415.1025",
         "25.29448267"
        ],
        [
         "33",
         "415.5846",
         "25.21075153"
        ],
        [
         "34",
         "416.0667",
         "25.11148993"
        ],
        [
         "35",
         "416.5488",
         "25.03173113"
        ],
        [
         "36",
         "417.0309",
         "24.94140096"
        ],
        [
         "37",
         "417.5131",
         "24.84870137"
        ],
        [
         "38",
         "417.9952",
         "24.69277285"
        ],
        [
         "39",
         "418.4773",
         "24.54579513"
        ],
        [
         "40",
         "418.9594",
         "24.38142989"
        ],
        [
         "41",
         "419.4415",
         "24.21197493"
        ],
        [
         "42",
         "419.9236",
         "24.00941826"
        ],
        [
         "43",
         "420.4058",
         "23.80009017"
        ],
        [
         "44",
         "420.8879",
         "23.6189511"
        ],
        [
         "45",
         "421.37",
         "23.49288698"
        ],
        [
         "46",
         "421.8521",
         "23.34657157"
        ],
        [
         "47",
         "422.3342",
         "23.22467277"
        ],
        [
         "48",
         "422.8163",
         "23.09734402"
        ],
        [
         "49",
         "423.2985",
         "23.01884255"
        ]
       ],
       "shape": {
        "columns": 2,
        "rows": 7469
       }
      },
      "text/html": [
       "<div>\n",
       "<style scoped>\n",
       "    .dataframe tbody tr th:only-of-type {\n",
       "        vertical-align: middle;\n",
       "    }\n",
       "\n",
       "    .dataframe tbody tr th {\n",
       "        vertical-align: top;\n",
       "    }\n",
       "\n",
       "    .dataframe thead th {\n",
       "        text-align: right;\n",
       "    }\n",
       "</style>\n",
       "<table border=\"1\" class=\"dataframe\">\n",
       "  <thead>\n",
       "    <tr style=\"text-align: right;\">\n",
       "      <th></th>\n",
       "      <th>波数 (cm-1)</th>\n",
       "      <th>反射率 (%)</th>\n",
       "    </tr>\n",
       "  </thead>\n",
       "  <tbody>\n",
       "    <tr>\n",
       "      <th>0</th>\n",
       "      <td>399.6747</td>\n",
       "      <td>0.000000</td>\n",
       "    </tr>\n",
       "    <tr>\n",
       "      <th>1</th>\n",
       "      <td>400.1569</td>\n",
       "      <td>31.293229</td>\n",
       "    </tr>\n",
       "    <tr>\n",
       "      <th>2</th>\n",
       "      <td>400.6390</td>\n",
       "      <td>30.604280</td>\n",
       "    </tr>\n",
       "    <tr>\n",
       "      <th>3</th>\n",
       "      <td>401.1211</td>\n",
       "      <td>29.997402</td>\n",
       "    </tr>\n",
       "    <tr>\n",
       "      <th>4</th>\n",
       "      <td>401.6032</td>\n",
       "      <td>29.414797</td>\n",
       "    </tr>\n",
       "    <tr>\n",
       "      <th>...</th>\n",
       "      <td>...</td>\n",
       "      <td>...</td>\n",
       "    </tr>\n",
       "    <tr>\n",
       "      <th>7464</th>\n",
       "      <td>3998.1940</td>\n",
       "      <td>18.270606</td>\n",
       "    </tr>\n",
       "    <tr>\n",
       "      <th>7465</th>\n",
       "      <td>3998.6760</td>\n",
       "      <td>18.273895</td>\n",
       "    </tr>\n",
       "    <tr>\n",
       "      <th>7466</th>\n",
       "      <td>3999.1580</td>\n",
       "      <td>18.254891</td>\n",
       "    </tr>\n",
       "    <tr>\n",
       "      <th>7467</th>\n",
       "      <td>3999.6400</td>\n",
       "      <td>18.302167</td>\n",
       "    </tr>\n",
       "    <tr>\n",
       "      <th>7468</th>\n",
       "      <td>4000.1220</td>\n",
       "      <td>18.268505</td>\n",
       "    </tr>\n",
       "  </tbody>\n",
       "</table>\n",
       "<p>7469 rows × 2 columns</p>\n",
       "</div>"
      ],
      "text/plain": [
       "      波数 (cm-1)    反射率 (%)\n",
       "0      399.6747   0.000000\n",
       "1      400.1569  31.293229\n",
       "2      400.6390  30.604280\n",
       "3      401.1211  29.997402\n",
       "4      401.6032  29.414797\n",
       "...         ...        ...\n",
       "7464  3998.1940  18.270606\n",
       "7465  3998.6760  18.273895\n",
       "7466  3999.1580  18.254891\n",
       "7467  3999.6400  18.302167\n",
       "7468  4000.1220  18.268505\n",
       "\n",
       "[7469 rows x 2 columns]"
      ]
     },
     "execution_count": 3,
     "metadata": {},
     "output_type": "execute_result"
    }
   ],
   "source": [
    "attach1 = pd.read_excel('附件1.xlsx')\n",
    "attach2 = pd.read_excel('附件2.xlsx')\n",
    "attach1"
   ]
  },
  {
   "cell_type": "code",
   "execution_count": 4,
   "id": "a9da3cf5",
   "metadata": {},
   "outputs": [
    {
     "data": {
      "image/png": "[encoded data removed]",
      "text/plain": [
       "<Figure size 640x480 with 1 Axes>"
      ]
     },
     "metadata": {},
     "output_type": "display_data"
    }
   ],
   "source": [
    "plt.plot(attach1.iloc[:, 0], attach1.iloc[:, 1], label='attach1')\n",
    "plt.plot(attach2.iloc[:, 0], attach2.iloc[:, 1], label='attach2')\n",
    "plt.legend()\n",
    "plt.show()"
   ]
  },
  {
   "cell_type": "code",
   "execution_count": 5,
   "id": "dee03980",
   "metadata": {},
   "outputs": [],
   "source": [
    "def plot(x, x_smooth, idx):\n",
    "    plt.plot(x, label='original')\n",
    "    plt.plot(x_smooth, label='smoothed')\n",
    "    plt.scatter(idx, x_smooth[idx], c='r', label='peaks')\n",
    "    plt.grid()\n",
    "    # plt.legend()\n",
    "    # plt.show()"
   ]
  },
  {
   "cell_type": "code",
   "execution_count": null,
   "id": "d1a5d129",
   "metadata": {},
   "outputs": [
    {
     "data": {
      "image/png": "[encoded data removed]",
      "text/plain": [
       "<Figure size 800x400 with 4 Axes>"
      ]
     },
     "metadata": {},
     "output_type": "display_data"
    }
   ],
   "source": [
    "from scipy.signal import savgol_filter, find_peaks\n",
    "from statsmodels.tsa.api import SimpleExpSmoothing\n",
    "from statsmodels.nonparametric.smoothers_lowess import lowess\n",
    "\n",
    "alpha = 0.3\n",
    "window_length = window_size = 11\n",
    "poly_order = 4\n",
    "distance = 100\n",
    "frac = 0.1\n",
    "\n",
    "def fft_smooth(data, cutoff_freq=0.002):\n",
    "    fft_data = np.fft.fft(data)\n",
    "    freqs = np.fft.fftfreq(len(data))\n",
    "    filter_mask = np.abs(freqs) < cutoff_freq  # 保留低频成分，滤除高频成分\n",
    "    filtered_fft = fft_data * filter_mask\n",
    "    smoothed_data = np.fft.ifft(filtered_fft)\n",
    "    return np.real(smoothed_data)\n",
    "\n",
    "def smooth_and_find_peaks(x):\n",
    "    x_smooth = fft_smooth(x)  # 平滑1\n",
    "    # x_smooth = savgol_filter(x, window_length, poly_order)  # 平滑2\n",
    "    # x_smooth = np.convolve(x, np.ones(window_size)/window_size, mode='valid')  # 平滑3\n",
    "    # x_smooth = SimpleExpSmoothing(x).fit(smoothing_level=alpha).fittedvalues  # 平滑4\n",
    "    # x_smooth = lowess(x, np.arange(len(x)), frac=frac)[:, 1]  # 平滑5\n",
    "    peaks, props = find_peaks(x_smooth, height=np.max(x_smooth) * 0.1, distance=distance)\n",
    "    return x_smooth, peaks\n",
    "# 找到波谷\n",
    "def smooth_and_find_troughs(x):\n",
    "    x_smooth = fft_smooth(x)\n",
    "    # x_smooth = savgol_filter(x, window_length, poly_order)\n",
    "    # x_smooth = np.convolve(x, np.ones(window_size)/window_size, mode='valid')\n",
    "    # x_smooth = SimpleExpSmoothing(x).fit(smoothing_level=alpha).fittedvalues\n",
    "    # x_smooth = lowess(x, np.arange(len(x)), frac=frac)[:, 1]\n",
    "    _x = x_smooth.max() - x_smooth\n",
    "    troughs, props = find_peaks(_x, height=np.max(_x) * 0.1, distance=distance)\n",
    "    return x_smooth, troughs\n",
    "\n",
    "plt.figure(figsize=(8, 4))\n",
    "\n",
    "theta0 = np.deg2rad(10)\n",
    "theta1 = np.arcsin(n0 * np.sin(theta0) / n1)\n",
    "tilde_v, R = attach1.values.T\n",
    "\n",
    "R_smooth, R_peaks_idx = smooth_and_find_peaks(R)\n",
    "R_peaks = R_smooth[R_peaks_idx]\n",
    "plt.subplot(221)\n",
    "plot(R, R_smooth, R_peaks_idx)\n",
    "\n",
    "R_smooth, R_troughs_idx = smooth_and_find_troughs(R)\n",
    "R_troughs = R_smooth[R_troughs_idx]\n",
    "plt.subplot(222)\n",
    "plot(R, R_smooth, R_troughs_idx)\n",
    "\n",
    "theta0 = np.deg2rad(15)\n",
    "theta1 = np.arcsin(n0 * np.sin(theta0) / n1)\n",
    "tilde_v, R = attach2.values.T\n",
    "\n",
    "R_smooth, R_peaks_idx = smooth_and_find_peaks(R)\n",
    "R_peaks = R_smooth[R_peaks_idx]\n",
    "plt.subplot(223)\n",
    "plot(R, R_smooth, R_peaks_idx)\n",
    "\n",
    "R_smooth, R_troughs_idx = smooth_and_find_troughs(R)\n",
    "R_troughs = R_smooth[R_troughs_idx]\n",
    "plt.subplot(224)\n",
    "plot(R, R_smooth, R_troughs_idx)\n",
    "\n",
    "plt.show()"
   ]
  },
  {
   "cell_type": "markdown",
   "id": "ed924abb",
   "metadata": {},
   "source": [
    "平滑的效果一般，观察波数差大约为 $\\frac{500}{3} \\sim \\frac{500}{2}$"
   ]
  },
  {
   "cell_type": "code",
   "execution_count": 7,
   "id": "578886cd",
   "metadata": {},
   "outputs": [
    {
     "name": "stdout",
     "output_type": "stream",
     "text": [
      "median 247.8090000000002 mean: 259.0820769230769 std: 29.859911630611524\n"
     ]
    },
    {
     "data": {
      "text/plain": [
       "(8.019368473305653, 8.09027161372836, 7.738250913133073)"
      ]
     },
     "execution_count": 7,
     "metadata": {},
     "output_type": "execute_result"
    }
   ],
   "source": [
    "# 附件1：波峰\n",
    "theta0 = np.deg2rad(10)\n",
    "theta1 = np.arcsin(n0 * np.sin(theta0) / n1)\n",
    "tilde_v, R = attach1.values.T\n",
    "R_smooth, R_peaks_idx = smooth_and_find_peaks(R)\n",
    "# R_peaks = R_smooth[R_peaks_idx]\n",
    "Delta_tilde_v = np.diff(tilde_v[R_peaks_idx])\n",
    "# print(Delta_tilde_v)\n",
    "Delta_tilde_v_const = 500 / 2\n",
    "Delta_tilde_v_median = np.median(Delta_tilde_v)\n",
    "Delta_tilde_v_mean = Delta_tilde_v.mean()\n",
    "Delta_tilde_v_std = Delta_tilde_v.std()\n",
    "print('median', Delta_tilde_v_median, 'mean:', Delta_tilde_v_mean, 'std:', Delta_tilde_v_std)\n",
    "1 / (2 * n1 * np.cos(theta1) * Delta_tilde_v_const) * 1e4, \\\n",
    "1 / (2 * n1 * np.cos(theta1) * Delta_tilde_v_median) * 1e4, \\\n",
    "1 / (2 * n1 * np.cos(theta1) * Delta_tilde_v_mean) * 1e4  # cm -> um"
   ]
  },
  {
   "cell_type": "code",
   "execution_count": 8,
   "id": "eb5ff797",
   "metadata": {},
   "outputs": [
    {
     "name": "stdout",
     "output_type": "stream",
     "text": [
      "median 247.32600000000002 mean: 255.33639230769234 std: 50.75658583869396\n"
     ]
    },
    {
     "data": {
      "text/plain": [
       "(8.019368473305653, 8.106071008815945, 7.8517680155458764)"
      ]
     },
     "execution_count": 8,
     "metadata": {},
     "output_type": "execute_result"
    }
   ],
   "source": [
    "# 附件1：波谷\n",
    "theta0 = np.deg2rad(10)\n",
    "theta1 = np.arcsin(n0 * np.sin(theta0) / n1)\n",
    "tilde_v, R = attach1.values.T\n",
    "R_smooth, R_troughs_idx = smooth_and_find_troughs(R)\n",
    "# R_troughs = R_smooth[R_troughs_idx]\n",
    "Delta_tilde_v = np.diff(tilde_v[R_troughs_idx])\n",
    "# print(Delta_tilde_v)\n",
    "Delta_tilde_v_const = 500 / 2\n",
    "Delta_tilde_v_median = np.median(Delta_tilde_v)\n",
    "Delta_tilde_v_mean = Delta_tilde_v.mean()\n",
    "Delta_tilde_v_std = Delta_tilde_v.std()\n",
    "print('median', Delta_tilde_v_median, 'mean:', Delta_tilde_v_mean, 'std:', Delta_tilde_v_std)\n",
    "1 / (2 * n1 * np.cos(theta1) * Delta_tilde_v_const) * 1e4, \\\n",
    "1 / (2 * n1 * np.cos(theta1) * Delta_tilde_v_median) * 1e4, \\\n",
    "1 / (2 * n1 * np.cos(theta1) * Delta_tilde_v_mean) * 1e4  # cm -> um"
   ]
  },
  {
   "cell_type": "code",
   "execution_count": 9,
   "metadata": {},
   "outputs": [
    {
     "name": "stdout",
     "output_type": "stream",
     "text": [
      "median 250.21849999999995 mean: 258.816325 std: 30.604397068589243\n"
     ]
    },
    {
     "data": {
      "text/plain": [
       "(8.043219602493455, 8.036195967218108, 7.769235192653955)"
      ]
     },
     "execution_count": 9,
     "metadata": {},
     "output_type": "execute_result"
    }
   ],
   "source": [
    "# 附件2：波峰\n",
    "theta0 = np.deg2rad(15)\n",
    "theta1 = np.arcsin(n0 * np.sin(theta0) / n1)\n",
    "tilde_v, R = attach2.values.T\n",
    "R_smooth, R_peaks_idx = smooth_and_find_peaks(R)\n",
    "# R_peaks = R_smooth[R_peaks_idx]\n",
    "Delta_tilde_v = np.diff(tilde_v[R_peaks_idx])\n",
    "# print(Delta_tilde_v)\n",
    "Delta_tilde_v_const = 500 / 2\n",
    "Delta_tilde_v_median = np.median(Delta_tilde_v)\n",
    "Delta_tilde_v_mean = Delta_tilde_v.mean()\n",
    "Delta_tilde_v_std = Delta_tilde_v.std()\n",
    "print('median', Delta_tilde_v_median, 'mean:', Delta_tilde_v_mean, 'std:', Delta_tilde_v_std)\n",
    "1 / (2 * n1 * np.cos(theta1) * Delta_tilde_v_const) * 1e4, \\\n",
    "1 / (2 * n1 * np.cos(theta1) * Delta_tilde_v_median) * 1e4, \\\n",
    "1 / (2 * n1 * np.cos(theta1) * Delta_tilde_v_mean) * 1e4  # cm -> um"
   ]
  },
  {
   "cell_type": "code",
   "execution_count": 10,
   "id": "d80b72c6",
   "metadata": {},
   "outputs": [
    {
     "name": "stdout",
     "output_type": "stream",
     "text": [
      "median 249.2544999999999 mean: 261.95005833333335 std: 47.00291453485373\n"
     ]
    },
    {
     "data": {
      "text/plain": [
       "(8.043219602493455, 8.067276220182041, 7.676291096925812)"
      ]
     },
     "execution_count": 10,
     "metadata": {},
     "output_type": "execute_result"
    }
   ],
   "source": [
    "# 附件2：波谷\n",
    "theta0 = np.deg2rad(15)\n",
    "theta1 = np.arcsin(n0 * np.sin(theta0) / n1)\n",
    "tilde_v, R = attach2.values.T\n",
    "R_smooth, R_troughs_idx = smooth_and_find_troughs(R)\n",
    "# R_troughs = R_smooth[R_troughs_idx]\n",
    "Delta_tilde_v = np.diff(tilde_v[R_troughs_idx])\n",
    "# print(Delta_tilde_v)\n",
    "Delta_tilde_v_const = 500 / 2\n",
    "Delta_tilde_v_median = np.median(Delta_tilde_v)\n",
    "Delta_tilde_v_mean = Delta_tilde_v.mean()\n",
    "Delta_tilde_v_std = Delta_tilde_v.std()\n",
    "print('median', Delta_tilde_v_median, 'mean:', Delta_tilde_v_mean, 'std:', Delta_tilde_v_std)\n",
    "1 / (2 * n1 * np.cos(theta1) * Delta_tilde_v_const) * 1e4, \\\n",
    "1 / (2 * n1 * np.cos(theta1) * Delta_tilde_v_median) * 1e4, \\\n",
    "1 / (2 * n1 * np.cos(theta1) * Delta_tilde_v_mean) * 1e4  # cm -> um"
   ]
  },
  {
   "cell_type": "markdown",
   "id": "5fa26b14",
   "metadata": {},
   "source": [
    "可靠性可以从两个附件结果对比得到，另外波数差的方差在一定程度上也能反映，但是最终结果取决于数据平滑的效果"
   ]
  },
  {
   "cell_type": "code",
   "execution_count": null,
   "id": "a2d6b183",
   "metadata": {},
   "outputs": [],
   "source": []
  }
 ],
 "metadata": {
  "kernelspec": {
   "display_name": "mathm",
   "language": "python",
   "name": "python3"
  },
  "language_info": {
   "codemirror_mode": {
    "name": "ipython",
    "version": 3
   },
   "file_extension": ".py",
   "mimetype": "text/x-python",
   "name": "python",
   "nbconvert_exporter": "python",
   "pygments_lexer": "ipython3",
   "version": "3.10.13"
  }
 },
 "nbformat": 4,
 "nbformat_minor": 5
}
